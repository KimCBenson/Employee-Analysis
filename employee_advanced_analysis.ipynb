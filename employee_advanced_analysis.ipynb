{
 "cells": [
  {
   "cell_type": "code",
   "execution_count": 211,
   "id": "7d96fc98-ac6b-4856-a0f6-7388072ab1de",
   "metadata": {},
   "outputs": [],
   "source": [
    "import numpy as np\n",
    "import pandas as pd\n",
    "import warnings\n",
    "\n",
    "pd.set_option('display.max_rows', None)\n",
    "pd.set_option('display.max_columns', None)\n",
    "pd.set_option('display.max_colwidth', None)\n",
    "\n",
    "warnings.filterwarnings('ignore')\n",
    "\n",
    "def take_a_look (data_to_look):\n",
    "    print(data_to_look.info())\n",
    "    print()\n",
    "    print(data_to_look.describe())\n",
    "\n",
    "def correlation_columns (data, col_1, col_2):\n",
    "    corr_value = data[col_1].corr(data[col_2])\n",
    "    return round(corr_value, 4) * 100\n",
    "\n",
    "def get_subset_threshold(data, column, threshold, condition):\n",
    "    \"\"\"\n",
    "    Parameters:\n",
    "    data: data to filter -> Dtype: data frame\n",
    "    column: filter based on this column -> Dtyle: string\n",
    "    threshold: value above/below you want to filter the data -> Dtype: float\n",
    "    condition: takes two possible values (greater than or equal to / less than) -> Dtype: string\n",
    "    \"\"\"\n",
    "    if condition == '>=':\n",
    "        mask = data[column] >= threshold\n",
    "        data_mask = data[mask]\n",
    "\n",
    "    else:\n",
    "        mask = data[column] < threshold\n",
    "        data_mask = data[mask]\n",
    "\n",
    "    return data_mask\n",
    "\n",
    "def get_subset_exact(data, column, column_value):\n",
    "    \"\"\"\n",
    "    This function generates subsets based on categorical column value.\n",
    "    Parameters:\n",
    "    data: data to filter -> Dtype: data frame\n",
    "    column: filter based on this column -> Dtype: string\n",
    "    column value: values that are equal to this are filtered -> Dtype: string\n",
    "    \"\"\"\n",
    "\n",
    "    mask = data[column] == column_value\n",
    "    data_mask = data[mask]\n",
    "\n",
    "    return data_mask\n",
    "    "
   ]
  },
  {
   "cell_type": "code",
   "execution_count": 213,
   "id": "0ff49acd-af9b-4496-9efc-4b24196d1023",
   "metadata": {},
   "outputs": [
    {
     "data": {
      "text/html": [
       "<div>\n",
       "<style scoped>\n",
       "    .dataframe tbody tr th:only-of-type {\n",
       "        vertical-align: middle;\n",
       "    }\n",
       "\n",
       "    .dataframe tbody tr th {\n",
       "        vertical-align: top;\n",
       "    }\n",
       "\n",
       "    .dataframe thead th {\n",
       "        text-align: right;\n",
       "    }\n",
       "</style>\n",
       "<table border=\"1\" class=\"dataframe\">\n",
       "  <thead>\n",
       "    <tr style=\"text-align: right;\">\n",
       "      <th></th>\n",
       "      <th>Gender</th>\n",
       "      <th>Age</th>\n",
       "      <th>Department</th>\n",
       "      <th>Country</th>\n",
       "      <th>Center</th>\n",
       "      <th>Annual Salary</th>\n",
       "      <th>Job Rate</th>\n",
       "      <th>Sick Leaves</th>\n",
       "      <th>Unpaid Leaves</th>\n",
       "      <th>Overtime Hours</th>\n",
       "    </tr>\n",
       "  </thead>\n",
       "  <tbody>\n",
       "    <tr>\n",
       "      <th>0</th>\n",
       "      <td>Female</td>\n",
       "      <td>58</td>\n",
       "      <td>Environmental Compliance</td>\n",
       "      <td>Egypt</td>\n",
       "      <td>Main</td>\n",
       "      <td>12538.8</td>\n",
       "      <td>5.0</td>\n",
       "      <td>0</td>\n",
       "      <td>0</td>\n",
       "      <td>9</td>\n",
       "    </tr>\n",
       "    <tr>\n",
       "      <th>1</th>\n",
       "      <td>Male</td>\n",
       "      <td>44</td>\n",
       "      <td>Manufacturing</td>\n",
       "      <td>Egypt</td>\n",
       "      <td>West</td>\n",
       "      <td>24305.4</td>\n",
       "      <td>5.0</td>\n",
       "      <td>3</td>\n",
       "      <td>0</td>\n",
       "      <td>43</td>\n",
       "    </tr>\n",
       "    <tr>\n",
       "      <th>2</th>\n",
       "      <td>Female</td>\n",
       "      <td>56</td>\n",
       "      <td>Account Management</td>\n",
       "      <td>Egypt</td>\n",
       "      <td>Main</td>\n",
       "      <td>36849.6</td>\n",
       "      <td>5.0</td>\n",
       "      <td>2</td>\n",
       "      <td>0</td>\n",
       "      <td>3</td>\n",
       "    </tr>\n",
       "    <tr>\n",
       "      <th>3</th>\n",
       "      <td>Male</td>\n",
       "      <td>59</td>\n",
       "      <td>Quality Control</td>\n",
       "      <td>Egypt</td>\n",
       "      <td>Main</td>\n",
       "      <td>40458.6</td>\n",
       "      <td>5.0</td>\n",
       "      <td>6</td>\n",
       "      <td>1</td>\n",
       "      <td>9</td>\n",
       "    </tr>\n",
       "    <tr>\n",
       "      <th>4</th>\n",
       "      <td>Female</td>\n",
       "      <td>58</td>\n",
       "      <td>Facilities/Engineering</td>\n",
       "      <td>Egypt</td>\n",
       "      <td>Main</td>\n",
       "      <td>15184.8</td>\n",
       "      <td>4.5</td>\n",
       "      <td>4</td>\n",
       "      <td>0</td>\n",
       "      <td>46</td>\n",
       "    </tr>\n",
       "  </tbody>\n",
       "</table>\n",
       "</div>"
      ],
      "text/plain": [
       "   Gender  Age                Department Country Center  Annual Salary  \\\n",
       "0  Female   58  Environmental Compliance   Egypt   Main        12538.8   \n",
       "1    Male   44             Manufacturing   Egypt   West        24305.4   \n",
       "2  Female   56        Account Management   Egypt   Main        36849.6   \n",
       "3    Male   59           Quality Control   Egypt   Main        40458.6   \n",
       "4  Female   58    Facilities/Engineering   Egypt   Main        15184.8   \n",
       "\n",
       "   Job Rate  Sick Leaves  Unpaid Leaves  Overtime Hours  \n",
       "0       5.0            0              0               9  \n",
       "1       5.0            3              0              43  \n",
       "2       5.0            2              0               3  \n",
       "3       5.0            6              1               9  \n",
       "4       4.5            4              0              46  "
      ]
     },
     "execution_count": 213,
     "metadata": {},
     "output_type": "execute_result"
    }
   ],
   "source": [
    "data = pd.read_csv('Employees_clean.csv')\n",
    "data.head()"
   ]
  },
  {
   "cell_type": "code",
   "execution_count": 5,
   "id": "d9cde337-f9ad-45da-bc7a-91642094a461",
   "metadata": {},
   "outputs": [
    {
     "name": "stdout",
     "output_type": "stream",
     "text": [
      "The ratio of 449 to 240 employees is 1.8708333333333333\n"
     ]
    }
   ],
   "source": [
    "male_employees = get_subset_exact(data, \"Gender\", \"Male\")\n",
    "female_employees  = get_subset_exact(data, \"Gender\", \"Female\")\n",
    "\n",
    "gender_counts = data['Gender'].value_counts()\n",
    "gender_ratio = gender_counts[0]/gender_counts[1]\n",
    "\n",
    "print(f\"The ratio of {gender_counts[0]} to {gender_counts[1]} employees is {gender_ratio}\")"
   ]
  },
  {
   "cell_type": "code",
   "execution_count": 7,
   "id": "cc7c9bf8-01d7-4024-a9bc-f10bbd61c850",
   "metadata": {},
   "outputs": [
    {
     "name": "stdout",
     "output_type": "stream",
     "text": [
      "Gender\n",
      "Male      95\n",
      "Female    45\n",
      "Name: count, dtype: int64\n"
     ]
    }
   ],
   "source": [
    "data_manfufacturing = get_subset_exact(data, 'Department', 'Manufacturing')\n",
    "print(data_manfufacturing['Gender'].value_counts())"
   ]
  },
  {
   "cell_type": "code",
   "execution_count": 9,
   "id": "316a9d47-7957-4cf2-986b-640d9ad3a7be",
   "metadata": {},
   "outputs": [],
   "source": [
    "unique_departments = data['Department'].unique()\n",
    "male_employees_count = []\n",
    "female_employees_count = []\n",
    "\n",
    "for i in unique_departments:\n",
    "    data_subset = get_subset_exact(data, 'Department', i)\n",
    "    \n",
    "    data_subset_gender_count = data_subset['Gender'].value_counts()\n",
    "\n",
    "    male_employees_count.append(data_subset_gender_count[0])\n",
    "\n",
    "    if data_subset_gender_count[0] != len(data_subset):\n",
    "        female_employees_count.append(data_subset_gender_count[1])\n",
    "    else:\n",
    "        female_employees_count.append(0)\n"
   ]
  },
  {
   "cell_type": "code",
   "execution_count": 11,
   "id": "4ba6b0ac-f2e5-410e-9a3a-ed63051df6c0",
   "metadata": {},
   "outputs": [],
   "source": [
    "male_employees_count = np.array(male_employees_count)\n",
    "female_employees_count = np.array(female_employees_count)"
   ]
  },
  {
   "cell_type": "code",
   "execution_count": 13,
   "id": "17c30125-51d1-4d3c-9759-b53c7d549010",
   "metadata": {},
   "outputs": [
    {
     "name": "stdout",
     "output_type": "stream",
     "text": [
      "The department with the highest male employees is: Manufacturing\n",
      "The department with the highest female employees is: Manufacturing\n"
     ]
    }
   ],
   "source": [
    "idx_highest_male_count = np.argmax(male_employees_count)\n",
    "print(\"The department with the highest male employees is:\", unique_departments[idx_highest_male_count])\n",
    "\n",
    "idx_highest_female_count = np.argmax(female_employees_count)\n",
    "print(\"The department with the highest female employees is:\", unique_departments[idx_highest_female_count])"
   ]
  },
  {
   "cell_type": "code",
   "execution_count": 15,
   "id": "21aead21-bcc0-47cb-a986-7c43e0515f32",
   "metadata": {},
   "outputs": [
    {
     "name": "stdout",
     "output_type": "stream",
     "text": [
      "The department with the lowest male employees is: Research/Development\n",
      "The department with the lowest female employees is: Research/Development\n"
     ]
    }
   ],
   "source": [
    "idx_lowest_male_count = np.argmin(male_employees_count)\n",
    "print(\"The department with the lowest male employees is:\", unique_departments[idx_lowest_male_count])\n",
    "\n",
    "idx_lowest_female_count = np.argmin(female_employees_count)\n",
    "print(\"The department with the lowest female employees is:\", unique_departments[idx_lowest_male_count])"
   ]
  },
  {
   "cell_type": "code",
   "execution_count": 37,
   "id": "242867e6-293d-4593-a393-59d1c9d06e25",
   "metadata": {},
   "outputs": [
    {
     "name": "stdout",
     "output_type": "stream",
     "text": [
      "The average salary of Manufacturing is: 24172.1\n"
     ]
    }
   ],
   "source": [
    "unique_departments = data['Department'].unique()\n",
    "data_manufacturing = get_subset_exact(data, 'Department', 'Manufacturing')\n",
    "\n",
    "avg_salary_manufacturing = np.around(np.mean(data_manufacturing['Annual Salary']), 2)\n",
    "\n",
    "print(\"The average salary of Manufacturing is:\", avg_salary_manufacturing)"
   ]
  },
  {
   "cell_type": "code",
   "execution_count": 109,
   "id": "51e68fe1-b7e3-4e90-9c55-27055909d9ca",
   "metadata": {},
   "outputs": [],
   "source": [
    "salary_data = []\n",
    "\n",
    "for i in unique_departments:\n",
    "    data_subset = get_subset_exact(data, 'Department', i)\n",
    "\n",
    "    data_subset_mean = np.around(np.mean(data_subset['Annual Salary']), 2)\n",
    "\n",
    "    salary_data.append(data_subset_mean)\n"
   ]
  },
  {
   "cell_type": "code",
   "execution_count": 111,
   "id": "222723ac-cdea-4c5b-9357-6a5b9a3c17aa",
   "metadata": {},
   "outputs": [],
   "source": [
    "salary_dict = {'Department': unique_departments, 'Average Salary': salary_data}\n",
    "\n",
    "table_salary_department = pd.DataFrame(salary_dict)\n",
    "\n",
    "table_salary_department.sort_values(by = 'Average Salary', ignore_index= True, ascending= False, inplace= True)"
   ]
  },
  {
   "cell_type": "code",
   "execution_count": 113,
   "id": "cd7d7594-de97-40f6-8006-5871fc69d6b8",
   "metadata": {},
   "outputs": [],
   "source": [
    "# get average country salaries\n",
    "country_salary_data = []\n",
    "unique_countries = data['Country'].unique()\n",
    "\n",
    "for i in unique_countries:\n",
    "    data_subset = get_subset_exact(data, 'Country', i)\n",
    "\n",
    "    data_subset_mean = np.around(np.mean(data_subset['Annual Salary']), 2)\n",
    "\n",
    "    country_salary_data.append(data_subset_mean)"
   ]
  },
  {
   "cell_type": "code",
   "execution_count": 191,
   "id": "eb979ec6-ad58-4c7f-8382-772bda19a174",
   "metadata": {},
   "outputs": [
    {
     "name": "stdout",
     "output_type": "stream",
     "text": [
      "Country with the highest salary is Egypt with a salary of 24955.48\n",
      "Country with the lowest salary is Lebanon with a salary of 23245.69\n"
     ]
    }
   ],
   "source": [
    "# make and sort dataframe to get high and lowest country avg salaries\n",
    "country_salary_dict = {'Country': unique_countries, 'Average Salary': country_salary_data}\n",
    "\n",
    "table_country_salary = pd.DataFrame(country_salary_dict)\n",
    "table_country_salary.sort_values(by = 'Average Salary', ignore_index= True, ascending= False, inplace= True)\n",
    "\n",
    "print(f\"Country with the highest salary is {table_country_salary['Country'][0]} with a salary of {table_country_salary['Average Salary'][0]}\")\n",
    "\n",
    "print(f\"Country with the lowest salary is {table_country_salary['Country'][len(table_country_salary) - 1]}\"\n",
    "f\" with a salary of {table_country_salary['Average Salary'][len(table_country_salary) - 1]}\")"
   ]
  },
  {
   "cell_type": "code",
   "execution_count": 215,
   "id": "28ac1ba0-8076-4ba4-af3a-e041352cba53",
   "metadata": {},
   "outputs": [],
   "source": [
    "def salary_report(data, feature):\n",
    "    \"\"\"\n",
    "    This function generates a report for average salaries per unique values in a given feature.\n",
    "    Parameters:\n",
    "    data: data to generate the report -> Dtype: data frame\n",
    "    feature: column name on which the report will be generated -> Dtyle: string\n",
    "    \"\"\"\n",
    "    \n",
    "    salaries = []\n",
    "\n",
    "    unique_features = data[feature].unique()\n",
    "\n",
    "    for i in unique_features:\n",
    "        data_feature = get_subset_exact(data, feature, i)\n",
    "\n",
    "        salary = np.around(np.mean(data_feature['Annual Salary']), 2)\n",
    "        salaries.append(salary)\n",
    "    salary_report = pd.DataFrame({feature: unique_features, 'Annual Salary': salaries})\n",
    "    \n",
    "    return salary_report"
   ]
  },
  {
   "cell_type": "code",
   "execution_count": 217,
   "id": "5a02649e-6c11-426c-8e38-497d8c1ba2ee",
   "metadata": {},
   "outputs": [
    {
     "data": {
      "text/html": [
       "<div>\n",
       "<style scoped>\n",
       "    .dataframe tbody tr th:only-of-type {\n",
       "        vertical-align: middle;\n",
       "    }\n",
       "\n",
       "    .dataframe tbody tr th {\n",
       "        vertical-align: top;\n",
       "    }\n",
       "\n",
       "    .dataframe thead th {\n",
       "        text-align: right;\n",
       "    }\n",
       "</style>\n",
       "<table border=\"1\" class=\"dataframe\">\n",
       "  <thead>\n",
       "    <tr style=\"text-align: right;\">\n",
       "      <th></th>\n",
       "      <th>Country</th>\n",
       "      <th>Annual Salary</th>\n",
       "    </tr>\n",
       "  </thead>\n",
       "  <tbody>\n",
       "    <tr>\n",
       "      <th>0</th>\n",
       "      <td>Egypt</td>\n",
       "      <td>24955.48</td>\n",
       "    </tr>\n",
       "    <tr>\n",
       "      <th>1</th>\n",
       "      <td>United Arab Emirates</td>\n",
       "      <td>24870.95</td>\n",
       "    </tr>\n",
       "    <tr>\n",
       "      <th>2</th>\n",
       "      <td>Saudi Arabia</td>\n",
       "      <td>24173.74</td>\n",
       "    </tr>\n",
       "    <tr>\n",
       "      <th>3</th>\n",
       "      <td>Syria</td>\n",
       "      <td>24453.41</td>\n",
       "    </tr>\n",
       "    <tr>\n",
       "      <th>4</th>\n",
       "      <td>Lebanon</td>\n",
       "      <td>23245.69</td>\n",
       "    </tr>\n",
       "  </tbody>\n",
       "</table>\n",
       "</div>"
      ],
      "text/plain": [
       "                Country  Annual Salary\n",
       "0                 Egypt       24955.48\n",
       "1  United Arab Emirates       24870.95\n",
       "2          Saudi Arabia       24173.74\n",
       "3                 Syria       24453.41\n",
       "4               Lebanon       23245.69"
      ]
     },
     "execution_count": 217,
     "metadata": {},
     "output_type": "execute_result"
    }
   ],
   "source": [
    "salary_report(data, 'Country')"
   ]
  },
  {
   "cell_type": "code",
   "execution_count": null,
   "id": "f8caa339-c104-450e-8097-e4d9b591ac1f",
   "metadata": {},
   "outputs": [],
   "source": []
  }
 ],
 "metadata": {
  "kernelspec": {
   "display_name": "Python 3 (ipykernel)",
   "language": "python",
   "name": "python3"
  },
  "language_info": {
   "codemirror_mode": {
    "name": "ipython",
    "version": 3
   },
   "file_extension": ".py",
   "mimetype": "text/x-python",
   "name": "python",
   "nbconvert_exporter": "python",
   "pygments_lexer": "ipython3",
   "version": "3.11.7"
  }
 },
 "nbformat": 4,
 "nbformat_minor": 5
}
